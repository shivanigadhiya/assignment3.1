{
 "cells": [
  {
   "cell_type": "markdown",
   "id": "d1404cf4-0c3a-4f9e-9de1-0d2067cf236e",
   "metadata": {},
   "source": [
    "Generator function: It is used for reduce the memory like if we want to create list and we want to add so many numbers of values that time memory used a lot.That's why we use generator function.Also it allows to declare a function that behaves like an iterator,making it a faster,cleaner and easier way to create an iterator. We use yield keyword because it represents generator function and when we use yield keyword..The yield statement returns a generator object to the one who calls the function which contains yield, instead of simply returning a value."
   ]
  },
  {
   "cell_type": "code",
   "execution_count": 1,
   "id": "7adfbdd5-c855-447c-850d-70c34fb6dcaa",
   "metadata": {},
   "outputs": [
    {
     "name": "stdout",
     "output_type": "stream",
     "text": [
      "0\n",
      "1\n",
      "1\n",
      "2\n",
      "3\n",
      "5\n",
      "8\n",
      "13\n",
      "21\n",
      "34\n"
     ]
    }
   ],
   "source": [
    "def abc(n):\n",
    "    a,b = 0,1\n",
    "    for i in range(n):\n",
    "        yield a\n",
    "        a , b = b,a+b\n",
    "for i in abc(10):\n",
    "    print(i)"
   ]
  },
  {
   "cell_type": "code",
   "execution_count": null,
   "id": "0db2f6f2-8749-4f7b-958d-40cf0d4ee25b",
   "metadata": {},
   "outputs": [],
   "source": []
  }
 ],
 "metadata": {
  "kernelspec": {
   "display_name": "Python 3 (ipykernel)",
   "language": "python",
   "name": "python3"
  },
  "language_info": {
   "codemirror_mode": {
    "name": "ipython",
    "version": 3
   },
   "file_extension": ".py",
   "mimetype": "text/x-python",
   "name": "python",
   "nbconvert_exporter": "python",
   "pygments_lexer": "ipython3",
   "version": "3.10.8"
  }
 },
 "nbformat": 4,
 "nbformat_minor": 5
}
