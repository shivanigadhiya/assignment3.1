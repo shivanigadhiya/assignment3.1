{
 "cells": [
  {
   "cell_type": "markdown",
   "id": "9617d0bf-ea97-4412-aa7a-317ef4010ca4",
   "metadata": {},
   "source": [
    "Iterator: It is used to fetch the data or object that we have to use next() function.\n",
    "iter() method use for initialize the iterator."
   ]
  },
  {
   "cell_type": "code",
   "execution_count": 1,
   "id": "0dba88d9-de17-442e-a004-5b6b2fc4a36e",
   "metadata": {},
   "outputs": [
    {
     "data": {
      "text/plain": [
       "2"
      ]
     },
     "execution_count": 1,
     "metadata": {},
     "output_type": "execute_result"
    }
   ],
   "source": [
    "l = [2,4,6,8,10,12,14,16,18,20]\n",
    "s1 = iter(l)\n",
    "next(s1)"
   ]
  },
  {
   "cell_type": "code",
   "execution_count": 2,
   "id": "6027eaba-92aa-4fa5-8456-c46c9f365ad2",
   "metadata": {},
   "outputs": [
    {
     "data": {
      "text/plain": [
       "4"
      ]
     },
     "execution_count": 2,
     "metadata": {},
     "output_type": "execute_result"
    }
   ],
   "source": [
    "next(s1)"
   ]
  },
  {
   "cell_type": "code",
   "execution_count": 3,
   "id": "b09ec325-6c49-4bab-9c00-26b4087f6c9e",
   "metadata": {},
   "outputs": [
    {
     "data": {
      "text/plain": [
       "6"
      ]
     },
     "execution_count": 3,
     "metadata": {},
     "output_type": "execute_result"
    }
   ],
   "source": [
    "next(s1)"
   ]
  },
  {
   "cell_type": "code",
   "execution_count": 4,
   "id": "2322587e-3237-45ab-90fd-e0fad2989419",
   "metadata": {},
   "outputs": [
    {
     "data": {
      "text/plain": [
       "8"
      ]
     },
     "execution_count": 4,
     "metadata": {},
     "output_type": "execute_result"
    }
   ],
   "source": [
    "next(s1)"
   ]
  },
  {
   "cell_type": "code",
   "execution_count": 5,
   "id": "10f3e2b9-5d62-4418-8df7-6e634f5fb17b",
   "metadata": {},
   "outputs": [
    {
     "data": {
      "text/plain": [
       "10"
      ]
     },
     "execution_count": 5,
     "metadata": {},
     "output_type": "execute_result"
    }
   ],
   "source": [
    "next(s1)"
   ]
  }
 ],
 "metadata": {
  "kernelspec": {
   "display_name": "Python 3 (ipykernel)",
   "language": "python",
   "name": "python3"
  },
  "language_info": {
   "codemirror_mode": {
    "name": "ipython",
    "version": 3
   },
   "file_extension": ".py",
   "mimetype": "text/x-python",
   "name": "python",
   "nbconvert_exporter": "python",
   "pygments_lexer": "ipython3",
   "version": "3.10.8"
  }
 },
 "nbformat": 4,
 "nbformat_minor": 5
}
