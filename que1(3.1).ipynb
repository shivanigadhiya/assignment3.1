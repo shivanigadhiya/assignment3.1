{
 "cells": [
  {
   "cell_type": "markdown",
   "id": "2b819df8-d519-49b6-b480-731dd586e3b3",
   "metadata": {},
   "source": [
    "To create a function , we should start with def keyword, then function name with parantheses .\n",
    "Example: def abc():"
   ]
  },
  {
   "cell_type": "code",
   "execution_count": 5,
   "id": "c5ea910b-74de-4c12-80f1-a3e6087805e1",
   "metadata": {},
   "outputs": [
    {
     "data": {
      "text/plain": [
       "[1, 3, 5, 7, 9, 11, 13, 15, 17, 19, 21, 23]"
      ]
     },
     "execution_count": 5,
     "metadata": {},
     "output_type": "execute_result"
    }
   ],
   "source": [
    "def abc():\n",
    "    l1 = []\n",
    "    for i in range(1,25):\n",
    "        if(i%2!=0):\n",
    "            l1.append(i)\n",
    "    return l1    \n",
    "abc()"
   ]
  },
  {
   "cell_type": "code",
   "execution_count": null,
   "id": "4fe9d5e2-cc11-440a-8960-b728e63fde52",
   "metadata": {},
   "outputs": [],
   "source": []
  }
 ],
 "metadata": {
  "kernelspec": {
   "display_name": "Python 3 (ipykernel)",
   "language": "python",
   "name": "python3"
  },
  "language_info": {
   "codemirror_mode": {
    "name": "ipython",
    "version": 3
   },
   "file_extension": ".py",
   "mimetype": "text/x-python",
   "name": "python",
   "nbconvert_exporter": "python",
   "pygments_lexer": "ipython3",
   "version": "3.10.8"
  }
 },
 "nbformat": 4,
 "nbformat_minor": 5
}
