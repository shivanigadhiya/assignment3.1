{
 "cells": [
  {
   "cell_type": "markdown",
   "id": "2ed46460-da74-4209-bdef-2f882284de9a",
   "metadata": {},
   "source": [
    "We use *args and **kwargs as an argument when we are unsure about the number of arguments to pass in the functions.\n",
    "Difference between *args and **kwargs is: *args returns the values in form of tuple and **kwargs returns the value in form of dictionary.We can use any name like:*"
   ]
  },
  {
   "cell_type": "markdown",
   "id": "2960ba38-954a-4cef-a04e-c344962562d3",
   "metadata": {},
   "source": [
    "example of *args :"
   ]
  },
  {
   "cell_type": "code",
   "execution_count": 1,
   "id": "b3b79f57-abb8-4fb9-b05d-98ae065a9bee",
   "metadata": {},
   "outputs": [
    {
     "data": {
      "text/plain": [
       "(1, 2, 'shivani', 46.8, [1, 2, 3, 4])"
      ]
     },
     "execution_count": 1,
     "metadata": {},
     "output_type": "execute_result"
    }
   ],
   "source": [
    "def abc(*args):\n",
    "    return args\n",
    "abc(1,2,\"shivani\",46.8,[1,2,3,4])"
   ]
  },
  {
   "cell_type": "markdown",
   "id": "1b9a37e5-9595-4078-9ab4-c3e41b422801",
   "metadata": {},
   "source": [
    "example of **kwargs :"
   ]
  },
  {
   "cell_type": "code",
   "execution_count": null,
   "id": "9f0e0dbb-09eb-4ca7-a857-37b234434526",
   "metadata": {},
   "outputs": [],
   "source": [
    "def abc1(**kwargs):\n",
    "    return kwargs"
   ]
  }
 ],
 "metadata": {
  "kernelspec": {
   "display_name": "Python 3 (ipykernel)",
   "language": "python",
   "name": "python3"
  },
  "language_info": {
   "codemirror_mode": {
    "name": "ipython",
    "version": 3
   },
   "file_extension": ".py",
   "mimetype": "text/x-python",
   "name": "python",
   "nbconvert_exporter": "python",
   "pygments_lexer": "ipython3",
   "version": "3.10.8"
  }
 },
 "nbformat": 4,
 "nbformat_minor": 5
}
